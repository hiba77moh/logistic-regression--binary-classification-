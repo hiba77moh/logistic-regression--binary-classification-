{
 "cells": [
  {
   "cell_type": "code",
   "execution_count": 2,
   "id": "525d9530",
   "metadata": {},
   "outputs": [],
   "source": [
    "import copy, math\n",
    "import numpy as np\n",
    "%matplotlib widget\n",
    "import matplotlib.pyplot as plt\n",
    "from lab_utils_common import  dlc, plot_data, plt_tumor_data, sigmoid, compute_cost_logistic\n",
    "from plt_quad_logistic import plt_quad_logistic, plt_prob\n",
    "plt.style.use('./deeplearning.mplstyle')"
   ]
  },
  {
   "cell_type": "markdown",
   "id": "9a5132d7",
   "metadata": {},
   "source": [
    "## Data set :\n"
   ]
  },
  {
   "cell_type": "code",
   "execution_count": 3,
   "id": "d207a1e9",
   "metadata": {},
   "outputs": [],
   "source": [
    "X_train = np.array([[0.5, 1.5], [1,1], [1.5, 0.5], [3, 0.5], [2, 2], [1, 2.5]])\n",
    "y_train = np.array([0, 0, 0, 1, 1, 1])"
   ]
  },
  {
   "cell_type": "markdown",
   "id": "160a6841",
   "metadata": {},
   "source": [
    "## plot data"
   ]
  },
  {
   "cell_type": "code",
   "execution_count": 4,
   "id": "8597ff0a",
   "metadata": {},
   "outputs": [
    {
     "data": {
      "application/vnd.jupyter.widget-view+json": {
       "model_id": "5d964f9ef234448d9971c8a5002ee917",
       "version_major": 2,
       "version_minor": 0
      },
      "image/png": "[encoded data removed]",
      "text/html": [
       "\n",
       "            <div style=\"display: inline-block;\">\n",
       "                <div class=\"jupyter-widgets widget-label\" style=\"text-align: center;\">\n",
       "                    Figure\n",
       "                </div>\n",
       "                <img src='data:image/png;base64,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' width=400.0/>\n",
       "            </div>\n",
       "        "
      ],
      "text/plain": [
       "Canvas(footer_visible=False, header_visible=False, toolbar=Toolbar(toolitems=[('Home', 'Reset original view', …"
      ]
     },
     "metadata": {},
     "output_type": "display_data"
    }
   ],
   "source": [
    "fig,ax = plt.subplots(1,1,figsize=(4,4))\n",
    "plot_data(X_train, y_train, ax)\n",
    "\n",
    "ax.axis([0, 4, 0, 3.5])\n",
    "ax.set_ylabel('$x_1$', fontsize=12)\n",
    "ax.set_xlabel('$x_0$', fontsize=12)\n",
    "plt.show()"
   ]
  },
  {
   "cell_type": "markdown",
   "id": "f366e66d",
   "metadata": {},
   "source": [
    "## Logistic Gradient Descent\n",
    "\n",
    "Recall the gradient descent algorithm utilizes the gradient calculation:\n",
    "$$\\begin{align*}\n",
    "&\\text{repeat until convergence:} \\; \\lbrace \\\\\n",
    "&  \\; \\; \\;w_j = w_j -  \\alpha \\frac{\\partial J(\\mathbf{w},b)}{\\partial w_j} \\tag{1}  \\; & \\text{for j := 0..n-1} \\\\ \n",
    "&  \\; \\; \\;  \\; \\;b = b -  \\alpha \\frac{\\partial J(\\mathbf{w},b)}{\\partial b} \\\\\n",
    "&\\rbrace\n",
    "\\end{align*}$$\n",
    "\n",
    "Where each iteration performs simultaneous updates on $w_j$ for all $j$, where\n",
    "$$\\begin{align*}\n",
    "\\frac{\\partial J(\\mathbf{w},b)}{\\partial w_j}  &= \\frac{1}{m} \\sum\\limits_{i = 0}^{m-1} (f_{\\mathbf{w},b}(\\mathbf{x}^{(i)}) - y^{(i)})x_{j}^{(i)} \\tag{2} \\\\\n",
    "\\frac{\\partial J(\\mathbf{w},b)}{\\partial b}  &= \\frac{1}{m} \\sum\\limits_{i = 0}^{m-1} (f_{\\mathbf{w},b}(\\mathbf{x}^{(i)}) - y^{(i)}) \\tag{3} \n",
    "\\end{align*}$$\n",
    "\n",
    "* m is the number of training examples in the data set        \n",
    "    \n"
   ]
  },
  {
   "cell_type": "markdown",
   "id": "c906f532",
   "metadata": {},
   "source": [
    "### compute gradient logistic\n"
   ]
  },
  {
   "cell_type": "code",
   "execution_count": 5,
   "id": "35b4daf1",
   "metadata": {},
   "outputs": [],
   "source": [
    "def compute_gradient_logistic(X, y, w, b): \n",
    "    \"\"\"\n",
    "    Computes the gradient for logistic regression \n",
    " \n",
    "    Args:\n",
    "      X (ndarray (m,n): Data, m examples with n features\n",
    "      y (ndarray (m,)): target values\n",
    "      w (ndarray (n,)): model parameters  \n",
    "      b (scalar)      : model parameter\n",
    "    Returns\n",
    "      dj_dw (ndarray (n,)): The gradient of the cost w.r.t. the parameters w. \n",
    "      dj_db (scalar)      : The gradient of the cost w.r.t. the parameter b. \n",
    "    \"\"\"\n",
    "    m,n = X.shape\n",
    "    dj_dw = np.zeros((n,))                           #(n,)\n",
    "    dj_db = 0.\n",
    "\n",
    "    for i in range(m):\n",
    "        f_wb_i = sigmoid(np.dot(X[i],w) + b)          #(n,)(n,)=scalar\n",
    "        err_i  = f_wb_i  - y[i]                       #scalar\n",
    "        for j in range(n):\n",
    "            dj_dw[j] = dj_dw[j] + err_i * X[i,j]      #scalar\n",
    "        dj_db = dj_db + err_i\n",
    "    dj_dw = dj_dw/m                                   #(n,)\n",
    "    dj_db = dj_db/m                                   #scalar\n",
    "        \n",
    "    return dj_db, dj_dw  "
   ]
  },
  {
   "cell_type": "markdown",
   "id": "492dae8f",
   "metadata": {},
   "source": [
    "### test :"
   ]
  },
  {
   "cell_type": "code",
   "execution_count": 6,
   "id": "81ea2255",
   "metadata": {},
   "outputs": [
    {
     "name": "stdout",
     "output_type": "stream",
     "text": [
      "dj_db: 0.49861806546328574\n",
      "dj_dw: [0.498333393278696, 0.49883942983996693]\n"
     ]
    }
   ],
   "source": [
    "X_tmp = np.array([[0.5, 1.5], [1,1], [1.5, 0.5], [3, 0.5], [2, 2], [1, 2.5]])\n",
    "y_tmp = np.array([0, 0, 0, 1, 1, 1])\n",
    "w_tmp = np.array([2.,3.])\n",
    "b_tmp = 1.\n",
    "dj_db_tmp, dj_dw_tmp = compute_gradient_logistic(X_tmp, y_tmp, w_tmp, b_tmp)\n",
    "print(f\"dj_db: {dj_db_tmp}\" )\n",
    "print(f\"dj_dw: {dj_dw_tmp.tolist()}\" )"
   ]
  },
  {
   "cell_type": "code",
   "execution_count": null,
   "id": "5a1f55e9",
   "metadata": {},
   "outputs": [],
   "source": []
  }
 ],
 "metadata": {
  "kernelspec": {
   "display_name": "Python 3",
   "language": "python",
   "name": "python3"
  },
  "language_info": {
   "codemirror_mode": {
    "name": "ipython",
    "version": 3
   },
   "file_extension": ".py",
   "mimetype": "text/x-python",
   "name": "python",
   "nbconvert_exporter": "python",
   "pygments_lexer": "ipython3",
   "version": "3.10.0rc1"
  }
 },
 "nbformat": 4,
 "nbformat_minor": 5
}
