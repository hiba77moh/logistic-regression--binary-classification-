{
 "cells": [
  {
   "cell_type": "markdown",
   "id": "e2d02758",
   "metadata": {},
   "source": [
    "## tools "
   ]
  },
  {
   "cell_type": "code",
   "execution_count": 2,
   "id": "0d5df932",
   "metadata": {},
   "outputs": [],
   "source": [
    "import numpy as np\n",
    "%matplotlib widget\n",
    "import matplotlib.pyplot as plt"
   ]
  },
  {
   "cell_type": "markdown",
   "id": "63b027a9",
   "metadata": {},
   "source": [
    "## pre-written helper modules"
   ]
  },
  {
   "cell_type": "code",
   "execution_count": 3,
   "id": "fc24aa5b",
   "metadata": {},
   "outputs": [],
   "source": [
    "from plt_one_addpt_onclick import plt_one_addpt_onclick\n",
    "from lab_utils_common import draw_vthresh\n",
    "plt.style.use('./deeplearning.mplstyle')"
   ]
  },
  {
   "cell_type": "markdown",
   "id": "61b37b60",
   "metadata": {},
   "source": [
    "### trying exp first :\n",
    "numpy function to calculate $${ e^{z}}$$"
   ]
  },
  {
   "cell_type": "code",
   "execution_count": 4,
   "id": "0c448d07",
   "metadata": {},
   "outputs": [
    {
     "name": "stdout",
     "output_type": "stream",
     "text": [
      "Input to exp: [1 2 3]\n",
      "Output of exp: [ 2.72  7.39 20.09]\n",
      "Input to exp: 1\n",
      "Output of exp: 2.718281828459045\n"
     ]
    }
   ],
   "source": [
    "# Input is an array. \n",
    "input_array = np.array([1,2,3])\n",
    "exp_array = np.exp(input_array)\n",
    "print(\"Input to exp:\", input_array) ; print(\"Output of exp:\", exp_array)\n",
    "\n",
    "# Input is a single number\n",
    "input_val = 1  \n",
    "exp_val = np.exp(input_val)\n",
    "print(\"Input to exp:\", input_val) ; print(\"Output of exp:\", exp_val)"
   ]
  },
  {
   "cell_type": "markdown",
   "id": "69e8639b",
   "metadata": {},
   "source": [
    "## Sigmoid function\n",
    "\n",
    "The formula for a sigmoid function is as follows -  \n",
    "\n",
    "\n",
    "$$\n",
    "g(z) = \\frac{1}{1 + e^{-z}} \\tag{1}\n",
    "$$\n"
   ]
  },
  {
   "cell_type": "code",
   "execution_count": 5,
   "id": "0d401a46",
   "metadata": {},
   "outputs": [],
   "source": [
    "def sigmoid(z): \n",
    "    \"\"\"\n",
    "    Compute the sigmoid of z\n",
    "\n",
    "    Args:\n",
    "        z (ndarray): A scalar, numpy array of any size.\n",
    "\n",
    "    Returns:\n",
    "        g (ndarray): sigmoid(z), with the same shape as z\n",
    "         \n",
    "    \"\"\"\n",
    "    return 1 / (1 + np.exp(-z))\n"
   ]
  },
  {
   "cell_type": "code",
   "execution_count": 6,
   "id": "3af926bb",
   "metadata": {},
   "outputs": [
    {
     "data": {
      "text/plain": [
       "0.00012339457598623172"
      ]
     },
     "execution_count": 6,
     "metadata": {},
     "output_type": "execute_result"
    }
   ],
   "source": [
    "#test\n",
    "sigmoid(-9)"
   ]
  },
  {
   "cell_type": "code",
   "execution_count": 7,
   "id": "d5ecdf35",
   "metadata": {},
   "outputs": [
    {
     "name": "stdout",
     "output_type": "stream",
     "text": [
      "Input (z), Output (sigmoid(z))\n",
      "[[-1.000e+01  4.540e-05]\n",
      " [-9.000e+00  1.234e-04]\n",
      " [-8.000e+00  3.354e-04]\n",
      " [-7.000e+00  9.111e-04]\n",
      " [-6.000e+00  2.473e-03]\n",
      " [-5.000e+00  6.693e-03]\n",
      " [-4.000e+00  1.799e-02]\n",
      " [-3.000e+00  4.743e-02]\n",
      " [-2.000e+00  1.192e-01]\n",
      " [-1.000e+00  2.689e-01]\n",
      " [ 0.000e+00  5.000e-01]\n",
      " [ 1.000e+00  7.311e-01]\n",
      " [ 2.000e+00  8.808e-01]\n",
      " [ 3.000e+00  9.526e-01]\n",
      " [ 4.000e+00  9.820e-01]\n",
      " [ 5.000e+00  9.933e-01]\n",
      " [ 6.000e+00  9.975e-01]\n",
      " [ 7.000e+00  9.991e-01]\n",
      " [ 8.000e+00  9.997e-01]\n",
      " [ 9.000e+00  9.999e-01]\n",
      " [ 1.000e+01  1.000e+00]]\n"
     ]
    }
   ],
   "source": [
    "# Generate an array of evenly spaced input values from -10 to 10 (inclusive)\n",
    "# These represent possible values of the linear combination z = w·x + b\n",
    "z_tmp = np.arange(-10, 11)\n",
    "\n",
    "# Apply the sigmoid function to input array \n",
    "y = sigmoid(z_tmp)\n",
    "\n",
    "# Set NumPy print options\n",
    "# to format floating-point numbers with 3 decimal places\n",
    "np.set_printoptions(precision=3)\n",
    "\n",
    "print(\"Input (z), Output (sigmoid(z))\")\n",
    "\n",
    "# Print input and output side-by-side in a clean tabular format\n",
    "# z_tmp: input (z = w·x + b)\n",
    "# y: output (sigmoid(z))\n",
    "print(np.c_[z_tmp, y])\n",
    "\n"
   ]
  },
  {
   "cell_type": "markdown",
   "id": "b885b227",
   "metadata": {},
   "source": [
    "### plotting"
   ]
  },
  {
   "cell_type": "code",
   "execution_count": 8,
   "id": "3e6e5b62",
   "metadata": {},
   "outputs": [
    {
     "data": {
      "application/vnd.jupyter.widget-view+json": {
       "model_id": "319a4d14bc864dccb87e9f8ae07c2a7d",
       "version_major": 2,
       "version_minor": 0
      },
      "image/png": "[encoded data removed]",
      "text/html": [
       "\n",
       "            <div style=\"display: inline-block;\">\n",
       "                <div class=\"jupyter-widgets widget-label\" style=\"text-align: center;\">\n",
       "                    Figure\n",
       "                </div>\n",
       "                <img src='data:image/png;base64,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' width=500.0/>\n",
       "            </div>\n",
       "        "
      ],
      "text/plain": [
       "Canvas(toolbar=Toolbar(toolitems=[('Home', 'Reset original view', 'home', 'home'), ('Back', 'Back to previous …"
      ]
     },
     "metadata": {},
     "output_type": "display_data"
    }
   ],
   "source": [
    "fig,ax = plt.subplots(1,1,figsize=(5,3))\n",
    "ax.plot(z_tmp, y, c=\"b\")\n",
    "\n",
    "ax.set_title(\"Sigmoid function\")\n",
    "ax.set_ylabel('sigmoid(z)')\n",
    "ax.set_xlabel('z')\n",
    "draw_vthresh(ax,0)\n",
    "plt.show()\n"
   ]
  },
  {
   "cell_type": "markdown",
   "id": "8f18756e",
   "metadata": {},
   "source": [
    "## Logistic Regression\n"
   ]
  },
  {
   "cell_type": "markdown",
   "id": "aae9ff26",
   "metadata": {},
   "source": []
  }
 ],
 "metadata": {
  "kernelspec": {
   "display_name": "Python 3",
   "language": "python",
   "name": "python3"
  },
  "language_info": {
   "codemirror_mode": {
    "name": "ipython",
    "version": 3
   },
   "file_extension": ".py",
   "mimetype": "text/x-python",
   "name": "python",
   "nbconvert_exporter": "python",
   "pygments_lexer": "ipython3",
   "version": "3.10.0rc1"
  }
 },
 "nbformat": 4,
 "nbformat_minor": 5
}
