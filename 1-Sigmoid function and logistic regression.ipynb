{
 "cells": [
  {
   "cell_type": "markdown",
   "id": "e2d02758",
   "metadata": {},
   "source": [
    "## tools "
   ]
  },
  {
   "cell_type": "code",
   "execution_count": 40,
   "id": "0d5df932",
   "metadata": {},
   "outputs": [],
   "source": [
    "import numpy as np\n",
    "%matplotlib widget\n",
    "import matplotlib.pyplot as plt"
   ]
  },
  {
   "cell_type": "markdown",
   "id": "63b027a9",
   "metadata": {},
   "source": [
    "## pre-written helper modules"
   ]
  },
  {
   "cell_type": "code",
   "execution_count": 42,
   "id": "fc24aa5b",
   "metadata": {},
   "outputs": [],
   "source": [
    "from plt_one_addpt_onclick import plt_one_addpt_onclick\n",
    "from lab_utils_common import draw_vthresh\n",
    "plt.style.use('./deeplearning.mplstyle')"
   ]
  }
 ],
 "metadata": {
  "kernelspec": {
   "display_name": "Python 3",
   "language": "python",
   "name": "python3"
  },
  "language_info": {
   "codemirror_mode": {
    "name": "ipython",
    "version": 3
   },
   "file_extension": ".py",
   "mimetype": "text/x-python",
   "name": "python",
   "nbconvert_exporter": "python",
   "pygments_lexer": "ipython3",
   "version": "3.10.0rc1"
  }
 },
 "nbformat": 4,
 "nbformat_minor": 5
}
