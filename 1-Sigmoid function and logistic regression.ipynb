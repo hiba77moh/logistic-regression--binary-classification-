{
 "cells": [
  {
   "cell_type": "markdown",
   "id": "e2d02758",
   "metadata": {},
   "source": [
    "## tools "
   ]
  },
  {
   "cell_type": "code",
   "execution_count": 2,
   "id": "0d5df932",
   "metadata": {},
   "outputs": [],
   "source": [
    "import numpy as np\n",
    "%matplotlib widget\n",
    "import matplotlib.pyplot as plt"
   ]
  },
  {
   "cell_type": "markdown",
   "id": "63b027a9",
   "metadata": {},
   "source": [
    "## pre-written helper modules"
   ]
  },
  {
   "cell_type": "code",
   "execution_count": 3,
   "id": "fc24aa5b",
   "metadata": {},
   "outputs": [],
   "source": [
    "from plt_one_addpt_onclick import plt_one_addpt_onclick\n",
    "from lab_utils_common import draw_vthresh\n",
    "plt.style.use('./deeplearning.mplstyle')"
   ]
  },
  {
   "cell_type": "markdown",
   "id": "61b37b60",
   "metadata": {},
   "source": [
    "### trying exp first :\n",
    "numpy function to calculate $${ e^{z}}$$"
   ]
  },
  {
   "cell_type": "code",
   "execution_count": 4,
   "id": "0c448d07",
   "metadata": {},
   "outputs": [
    {
     "name": "stdout",
     "output_type": "stream",
     "text": [
      "Input to exp: [1 2 3]\n",
      "Output of exp: [ 2.72  7.39 20.09]\n",
      "Input to exp: 1\n",
      "Output of exp: 2.718281828459045\n"
     ]
    }
   ],
   "source": [
    "# Input is an array. \n",
    "input_array = np.array([1,2,3])\n",
    "exp_array = np.exp(input_array)\n",
    "print(\"Input to exp:\", input_array) ; print(\"Output of exp:\", exp_array)\n",
    "\n",
    "# Input is a single number\n",
    "input_val = 1  \n",
    "exp_val = np.exp(input_val)\n",
    "print(\"Input to exp:\", input_val) ; print(\"Output of exp:\", exp_val)"
   ]
  },
  {
   "cell_type": "markdown",
   "id": "69e8639b",
   "metadata": {},
   "source": []
  }
 ],
 "metadata": {
  "kernelspec": {
   "display_name": "Python 3",
   "language": "python",
   "name": "python3"
  },
  "language_info": {
   "codemirror_mode": {
    "name": "ipython",
    "version": 3
   },
   "file_extension": ".py",
   "mimetype": "text/x-python",
   "name": "python",
   "nbconvert_exporter": "python",
   "pygments_lexer": "ipython3",
   "version": "3.10.0rc1"
  }
 },
 "nbformat": 4,
 "nbformat_minor": 5
}
